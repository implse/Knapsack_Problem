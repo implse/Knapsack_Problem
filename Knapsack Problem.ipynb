{
 "cells": [
  {
   "cell_type": "markdown",
   "metadata": {},
   "source": [
    "# Knapsack Problem"
   ]
  },
  {
   "cell_type": "markdown",
   "metadata": {},
   "source": [
    "The knapsack problem is a very famous NP-hard problem in combinatorial optimization and applied mathematics.\n",
    "\n",
    "Given a set of items, each with a weight and value, determine the number of each items to include in a collection so that the total weight is less than or equal to a given limit. (wikipedia)\n",
    "    "
   ]
  },
  {
   "cell_type": "markdown",
   "metadata": {
    "collapsed": true
   },
   "source": [
    "## Two variants of Knapsack problem"
   ]
  },
  {
   "cell_type": "markdown",
   "metadata": {},
   "source": [
    "### 0/1 Knapsack problem "
   ]
  },
  {
   "cell_type": "markdown",
   "metadata": {},
   "source": [
    "0/1 means th1 items cannot be divided. Either you take the whome item or you didn't take the item. This can be solved recursively or by dynamic programming method."
   ]
  },
  {
   "cell_type": "markdown",
   "metadata": {},
   "source": [
    "This problem can be solved using recursion and dynamic programming."
   ]
  },
  {
   "cell_type": "markdown",
   "metadata": {},
   "source": [
    "### Recursive Method"
   ]
  },
  {
   "cell_type": "code",
   "execution_count": 14,
   "metadata": {
    "collapsed": false
   },
   "outputs": [],
   "source": [
    "def knapsack_recursive(weights, values, capacity):\n",
    "\n",
    "    # Helper function : Add an index as parameter\n",
    "    def knapsack_helper(weights, values, capacity, idx):\n",
    "        \n",
    "        # Base case\n",
    "        if idx == len(weights):\n",
    "            return 0\n",
    "\n",
    "        # Recursive case\n",
    "        if capacity - weights[idx] < 0:\n",
    "            return knapsack_helper(weights, values, capacity, idx + 1)\n",
    "    \n",
    "        return max(knapsack_helper(weights, values, capacity - weights[idx], idx + 1) + values[idx], knapsack_helper(weights, values, capacity, idx + 1))\n",
    "\n",
    "    # Function call\n",
    "    return knapsack_helper(weights, values, capacity, 0)"
   ]
  },
  {
   "cell_type": "code",
   "execution_count": 15,
   "metadata": {
    "collapsed": false
   },
   "outputs": [
    {
     "data": {
      "text/plain": [
       "13"
      ]
     },
     "execution_count": 15,
     "metadata": {},
     "output_type": "execute_result"
    }
   ],
   "source": [
    "# Test\n",
    "values = [5, 10, 3, 2, 3]\n",
    "weights = [4, 8, 3, 5, 2]\n",
    "backpack_capacity = 10\n",
    "\n",
    "knapsack_recursive(weights, values, backpack_capacity)\n"
   ]
  },
  {
   "cell_type": "markdown",
   "metadata": {},
   "source": [
    "Running Time : `O(n W)`\n",
    "\n",
    "Space : `O(n W)`"
   ]
  },
  {
   "cell_type": "markdown",
   "metadata": {},
   "source": [
    "### Iterative Method - DP"
   ]
  },
  {
   "cell_type": "code",
   "execution_count": 16,
   "metadata": {
    "collapsed": true
   },
   "outputs": [],
   "source": [
    "def knapsack_iterative(weights, values, capacity):\n",
    "    n = len(weights)\n",
    "    Opt = [[0] * (capacity + 1) for _ in range(n + 1)]\n",
    "    Sel = [[False] * (capacity + 1) for _ in range(n + 1)]\n",
    "\n",
    "    # Base case\n",
    "    for cap in range(weights[0], capacity + 1):\n",
    "        Opt[0][cap] = values[0]\n",
    "        Sel[0][cap] = True\n",
    "\n",
    "    # Fill in the 2D table\n",
    "    for i in range(1, n):\n",
    "        for cap in range(capacity + 1):\n",
    "            if cap >= weights[i] and Opt[i - 1][cap - weights[i]] + values[i] > Opt[i - 1][cap]:\n",
    "                Opt[i][cap] = Opt[i - 1][cap - weights[i]] + values[i]\n",
    "                Sel[i][cap] = True\n",
    "            else:\n",
    "                Opt[i][cap] = Opt[i - 1][cap]\n",
    "                Sel[i][cap] = False\n",
    "                \n",
    "    # Backtracking Solution\n",
    "    cap = capacity\n",
    "    solution = []\n",
    "    for i in range(n - 1, -1, -1):\n",
    "        if Sel[i][cap]:\n",
    "            solution.append((weights[i], values[i]))\n",
    "            cap -= weights[i]\n",
    "    return (Opt[n - 1][capacity], solution)"
   ]
  },
  {
   "cell_type": "code",
   "execution_count": 17,
   "metadata": {
    "collapsed": false
   },
   "outputs": [
    {
     "data": {
      "text/plain": [
       "(13, [(2, 3), (8, 10)])"
      ]
     },
     "execution_count": 17,
     "metadata": {},
     "output_type": "execute_result"
    }
   ],
   "source": [
    "# Test\n",
    "values = [5, 10, 3, 2, 3]\n",
    "weights = [4, 8, 3, 5, 2]\n",
    "backpack_capacity = 10\n",
    "\n",
    "knapsack_iterative(weights, values, backpack_capacity)\n",
    "\n"
   ]
  },
  {
   "cell_type": "markdown",
   "metadata": {},
   "source": [
    "### Fractional Knapsack problem"
   ]
  },
  {
   "cell_type": "markdown",
   "metadata": {},
   "source": [
    "In the case the items can be divided. This problem can be solved by greeedy method"
   ]
  },
  {
   "cell_type": "code",
   "execution_count": null,
   "metadata": {
    "collapsed": true
   },
   "outputs": [],
   "source": []
  },
  {
   "cell_type": "markdown",
   "metadata": {},
   "source": [
    "### Applications"
   ]
  },
  {
   "cell_type": "markdown",
   "metadata": {},
   "source": [
    "Though simply stated and simply solved, the knapsack problem can be mapped directly, if not used as a prototype for numerous practical problems. Direct applications include the following:\n",
    "\n",
    "    - a shipping company trying to pack as much package volume into a transport plane without breaking the weight capacity.\n",
    "    \n",
    "    - Hedge fund's need to invest so as to maximize potential gains, while keeping the value at risk (VaR) below a given threshold."
   ]
  },
  {
   "cell_type": "code",
   "execution_count": null,
   "metadata": {
    "collapsed": true
   },
   "outputs": [],
   "source": []
  }
 ],
 "metadata": {
  "kernelspec": {
   "display_name": "Python 3",
   "language": "python",
   "name": "python3"
  },
  "language_info": {
   "codemirror_mode": {
    "name": "ipython",
    "version": 3
   },
   "file_extension": ".py",
   "mimetype": "text/x-python",
   "name": "python",
   "nbconvert_exporter": "python",
   "pygments_lexer": "ipython3",
   "version": "3.6.0"
  }
 },
 "nbformat": 4,
 "nbformat_minor": 2
}

{
 "cells": [
  {
   "cell_type": "markdown",
   "metadata": {},
   "source": [
    "# Knapsack Problem"
   ]
  },
  {
   "cell_type": "markdown",
   "metadata": {},
   "source": [
    "The knapsack problem is a problem in combinatorial optimiztion.\n",
    "\n",
    "Given a set of items, each with a weight and value, determine the number of each items to include in a collection so that the total weight is less than or equal to a given limit. (wikipedia)\n",
    "    "
   ]
  },
  {
   "cell_type": "markdown",
   "metadata": {
    "collapsed": true
   },
   "source": [
    "## Two variants of Knapsack problem"
   ]
  },
  {
   "cell_type": "markdown",
   "metadata": {},
   "source": [
    "### 0/1 Knapsack problem "
   ]
  },
  {
   "cell_type": "markdown",
   "metadata": {},
   "source": [
    "0/1 means th1 items cannot be divided. Either you take the whome item or you didn't take the item. This can be solved recursively or by dynamic programming method."
   ]
  },
  {
   "cell_type": "markdown",
   "metadata": {},
   "source": [
    "### Recursive Method"
   ]
  },
  {
   "cell_type": "code",
   "execution_count": 4,
   "metadata": {},
   "outputs": [],
   "source": [
    "def knapsack_recursive(weights, values, capacity):\n",
    "\n",
    "  # Helper function : Add an index as parameter\n",
    "  def knapsack_helper(weights, values, capacity, idx):\n",
    "    # Base case\n",
    "    if idx == len(weights):\n",
    "      return 0\n",
    "\n",
    "    # Recursive case\n",
    "    if capacity - weights[idx] < 0:\n",
    "      return knapsack_helper(weights, values, capacity, idx + 1)\n",
    "    \n",
    "    return max(knapsack_helper(weights, values, capacity - weights[idx], idx + 1) + values[idx], knapsack_helper(weights, values, capacity, idx + 1))\n",
    "\n",
    "  # Function call\n",
    "  return knapsack_helper(weights, values, capacity, 0)"
   ]
  },
  {
   "cell_type": "code",
   "execution_count": 6,
   "metadata": {},
   "outputs": [
    {
     "data": {
      "text/plain": [
       "13"
      ]
     },
     "execution_count": 6,
     "metadata": {},
     "output_type": "execute_result"
    }
   ],
   "source": [
    "# Test\n",
    "values = [5, 10, 3, 2, 3]\n",
    "weights = [4, 8, 3, 5, 2]\n",
    "backpack_capacity = 10\n",
    "\n",
    "knapsack_recursive(weights, values, backpack_capacity)\n"
   ]
  },
  {
   "cell_type": "markdown",
   "metadata": {},
   "source": [
    "### Fractional Knapsack problem"
   ]
  },
  {
   "cell_type": "markdown",
   "metadata": {},
   "source": [
    "In the case the items can be divided. This problem can be solved by greeedy method"
   ]
  },
  {
   "cell_type": "code",
   "execution_count": null,
   "metadata": {},
   "outputs": [],
   "source": []
  }
 ],
 "metadata": {
  "kernelspec": {
   "display_name": "Python 3",
   "language": "python",
   "name": "python3"
  },
  "language_info": {
   "codemirror_mode": {
    "name": "ipython",
    "version": 3
   },
   "file_extension": ".py",
   "mimetype": "text/x-python",
   "name": "python",
   "nbconvert_exporter": "python",
   "pygments_lexer": "ipython3",
   "version": "3.7.3"
  }
 },
 "nbformat": 4,
 "nbformat_minor": 2
}

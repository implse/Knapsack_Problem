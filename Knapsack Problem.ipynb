{
 "cells": [
  {
   "cell_type": "markdown",
   "metadata": {},
   "source": [
    "# Knapsack Problem"
   ]
  },
  {
   "cell_type": "markdown",
   "metadata": {},
   "source": [
    "The `knapsack problem` (KP) is a very famous `NP problem` in combinatorial optimization.\n",
    "\n",
    "\n",
    "    "
   ]
  },
  {
   "cell_type": "markdown",
   "metadata": {},
   "source": [
    "The `knapsack problem`, belongs to a class of mathematical problems famous for pushing the limits of computing. And the `knapsack problem` is more than a thought experiment. “A lot of problems we face in life, be it business, finance, including logistics, container ship loading, aircraft loading — these are all `knapsack problems`.\n",
    "\n",
    "From a practical perspective, the `knapsack problem` is ubiquitous in everyday life.\n",
    "\n",
    "(Carsten Murawski, professor at the University of Melbourne in Australia)"
   ]
  },
  {
   "cell_type": "markdown",
   "metadata": {},
   "source": [
    "`NP` : Non deterministic polynomial time."
   ]
  },
  {
   "cell_type": "markdown",
   "metadata": {},
   "source": [
    "## Problem Statement"
   ]
  },
  {
   "cell_type": "markdown",
   "metadata": {},
   "source": [
    "Given a set of `items`, each with `weight` and `value` `(wi, vi)`, determine what is the `maximum value` we can obtain by selecting a subset of these `items`  such that the sum of the `weights` does not exceed a certain `capacity` `c`."
   ]
  },
  {
   "cell_type": "markdown",
   "metadata": {
    "collapsed": true
   },
   "source": [
    "## Two variants of Knapsack Problem"
   ]
  },
  {
   "cell_type": "markdown",
   "metadata": {},
   "source": [
    "### 0/1 Knapsack Problem "
   ]
  },
  {
   "cell_type": "markdown",
   "metadata": {},
   "source": [
    "`0/1` means that `items` cannot be divided. Either you take the whole `item` or you didn't take the `item`. This can be solved `recursively` or by `dynamic programming` methods."
   ]
  },
  {
   "cell_type": "markdown",
   "metadata": {},
   "source": [
    "### Recursive Method"
   ]
  },
  {
   "cell_type": "code",
   "execution_count": 14,
   "metadata": {
    "collapsed": true
   },
   "outputs": [],
   "source": [
    "# Time Complexity: O(2^n) \n",
    "def knapsack_recursive(weights, values, capacity):\n",
    "    \n",
    "    # Helper function : Add an index as parameter\n",
    "    def knapsack_helper(weights, values, capacity, idx):\n",
    "        # Base case\n",
    "        if idx == len(weights):\n",
    "            return 0\n",
    "\n",
    "        # Recursive case  if capacity - current weights[idx] < 0 this items cannot be included\n",
    "        if weights[idx] > capacity:\n",
    "            return knapsack_helper(weights, values, capacity, idx + 1)\n",
    "        \n",
    "        else:\n",
    "        # Return the maximum of two cases: (1) nth item included (2) not included \n",
    "            return max(values[idx] + knapsack_helper(weights, values, capacity - weights[idx], idx + 1), knapsack_helper(weights, values, capacity, idx + 1))\n",
    "\n",
    "    # Main function return\n",
    "    return knapsack_helper(weights, values, capacity, 0)"
   ]
  },
  {
   "cell_type": "code",
   "execution_count": 15,
   "metadata": {
    "collapsed": false
   },
   "outputs": [
    {
     "data": {
      "text/plain": [
       "13"
      ]
     },
     "execution_count": 15,
     "metadata": {},
     "output_type": "execute_result"
    }
   ],
   "source": [
    "# Test\n",
    "values = [5, 10, 3, 2, 3]\n",
    "weights = [4, 8, 3, 5, 2]\n",
    "backpack_capacity = 10\n",
    "\n",
    "knapsack_recursive(weights, values, backpack_capacity)\n"
   ]
  },
  {
   "cell_type": "markdown",
   "metadata": {},
   "source": [
    "### Recursive Method with Memoization"
   ]
  },
  {
   "cell_type": "code",
   "execution_count": 24,
   "metadata": {
    "collapsed": true
   },
   "outputs": [],
   "source": [
    "# Memoization : Time Complexity O(n * maxWeight) / Space O(n * maxWeight)\n",
    "def knapsack_recursive(weights, values, capacity):\n",
    "    # Helper function : Add an index as parameter\n",
    "    def knapsack_helper(weights, values, capacity, idx, memo):\n",
    "        # check memo\n",
    "        print(memo)\n",
    "        if memo.get(idx) is not None:\n",
    "            return memo[idx]\n",
    "\n",
    "        # Base case\n",
    "        elif idx == len(values):\n",
    "            return 0\n",
    "\n",
    "        # Recursive case  if capacity - current weights[idx] < 0 this items cannot be included\n",
    "        elif weights[idx] > capacity:\n",
    "            memo[idx] = knapsack_helper(weights, values, capacity, idx + 1, memo)\n",
    "            return memo[idx]\n",
    "\n",
    "        else:\n",
    "        # Return the maximum of two cases: (1) nth item included (2) not included\n",
    "            memo[idx] = max(values[idx] + knapsack_helper(weights, values, capacity - weights[idx], idx + 1, memo), knapsack_helper(weights, values, capacity, idx + 1, memo))\n",
    "            return memo[idx]\n",
    "\n",
    "    # Main function return\n",
    "    return knapsack_helper(weights, values, capacity, 0, {})"
   ]
  },
  {
   "cell_type": "code",
   "execution_count": 25,
   "metadata": {
    "collapsed": false
   },
   "outputs": [
    {
     "name": "stdout",
     "output_type": "stream",
     "text": [
      "{}\n",
      "{}\n",
      "{}\n",
      "{}\n",
      "{}\n",
      "{}\n",
      "{}\n",
      "{4: 3, 3: 3}\n",
      "{4: 3, 3: 3, 2: 6, 1: 6}\n"
     ]
    },
    {
     "data": {
      "text/plain": [
       "11"
      ]
     },
     "execution_count": 25,
     "metadata": {},
     "output_type": "execute_result"
    }
   ],
   "source": [
    "# Test\n",
    "values = [5, 10, 3, 2, 3]\n",
    "weights = [4, 8, 3, 5, 2]\n",
    "backpack_capacity = 10\n",
    "\n",
    "knapsack_recursive(weights, values, backpack_capacity)"
   ]
  },
  {
   "cell_type": "markdown",
   "metadata": {},
   "source": [
    "### Fractional Knapsack Problem"
   ]
  },
  {
   "cell_type": "markdown",
   "metadata": {},
   "source": [
    "I we can take fractions of the given `items`, then the `greedy` approach can be used."
   ]
  },
  {
   "cell_type": "markdown",
   "metadata": {},
   "source": [
    "- Sort the `items` according to their values, it can be done in `O(n log(n))` time complexity.\n",
    "\n",
    "- Start with the `item` that is the most valuable and take as much as possible.\n",
    "\n",
    "- Then try with the next `item` from our sorted list.\n",
    "\n",
    "- This linear search has `O(n)` time complexity.\n",
    "\n",
    "- Overall complexity : `O(n log(n)` + `O(n)` = `O(n log(n))`"
   ]
  },
  {
   "cell_type": "code",
   "execution_count": null,
   "metadata": {
    "collapsed": true
   },
   "outputs": [],
   "source": []
  }
 ],
 "metadata": {
  "kernelspec": {
   "display_name": "Python 3",
   "language": "python",
   "name": "python3"
  },
  "language_info": {
   "codemirror_mode": {
    "name": "ipython",
    "version": 3
   },
   "file_extension": ".py",
   "mimetype": "text/x-python",
   "name": "python",
   "nbconvert_exporter": "python",
   "pygments_lexer": "ipython3",
   "version": "3.6.0"
  }
 },
 "nbformat": 4,
 "nbformat_minor": 2
}

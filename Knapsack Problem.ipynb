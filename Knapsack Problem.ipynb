{
 "cells": [
  {
   "cell_type": "markdown",
   "metadata": {},
   "source": [
    "# Knapsack Problem"
   ]
  },
  {
   "cell_type": "markdown",
   "metadata": {},
   "source": [
    "The `knapsack problem` (KP) is a very famous `NP problem` in combinatorial optimization.\n",
    "\n",
    "\n",
    "    "
   ]
  },
  {
   "cell_type": "markdown",
   "metadata": {},
   "source": [
    "The `knapsack problem`, belongs to a class of mathematical problems famous for pushing the limits of computing. And the `knapsack problem` is more than a thought experiment. “A lot of problems we face in life, be it business, finance, including logistics, container ship loading, aircraft loading — these are all `knapsack problems`.\n",
    "\n",
    "From a practical perspective, the `knapsack problem` is ubiquitous in everyday life.\n",
    "\n",
    "(Carsten Murawski, professor at the University of Melbourne in Australia)"
   ]
  },
  {
   "cell_type": "markdown",
   "metadata": {},
   "source": [
    "`NP` : Non deterministic polynomial time."
   ]
  },
  {
   "cell_type": "markdown",
   "metadata": {},
   "source": [
    "## Problem Statement"
   ]
  },
  {
   "cell_type": "markdown",
   "metadata": {},
   "source": [
    "Given a set of `items`, each with `weight` and `value` `(wi, vi)`, determine what is the `maximum value` we can obtain by selecting a subset of these `items`  such that the sum of the `weights` does not exceed a certain `capacity` `c`."
   ]
  },
  {
   "cell_type": "markdown",
   "metadata": {
    "collapsed": true
   },
   "source": [
    "## Two variants of Knapsack Problem"
   ]
  },
  {
   "cell_type": "markdown",
   "metadata": {},
   "source": [
    "### 0/1 Knapsack Problem "
   ]
  },
  {
   "cell_type": "markdown",
   "metadata": {},
   "source": [
    "`0/1` means that `items` cannot be divided. Either you take the whole `item` or you didn't take the `item`. This can be solved `recursively` or by `dynamic programming` methods."
   ]
  },
  {
   "cell_type": "markdown",
   "metadata": {},
   "source": [
    "### Brute Force Method"
   ]
  },
  {
   "cell_type": "markdown",
   "metadata": {},
   "source": [
    "Get the optimum solution considering all the subsets of weights and values. (try all possible ways of taking items)"
   ]
  },
  {
   "cell_type": "code",
   "execution_count": 1,
   "metadata": {},
   "outputs": [],
   "source": [
    "# Power Set\n",
    "def power_set(input_set):\n",
    "    def power_set_helper(to_be_selected, selected_so_far):\n",
    "        if to_be_selected == len(input_set):\n",
    "            power_set.append(selected_so_far)\n",
    "            return\n",
    "        power_set_helper(to_be_selected + 1, selected_so_far)\n",
    "        power_set_helper(to_be_selected + 1, selected_so_far + [input_set[to_be_selected]])\n",
    "    power_set = []\n",
    "    power_set_helper(0, [])\n",
    "\n",
    "    return power_set\n",
    "\n",
    "# Brute Force (Power Set) Time : O(2^n)\n",
    "def knapsack(weights, values, capacity):\n",
    "    input_set = [(weights[i], values[i]) for i in range(len(weights))]\n",
    "    all_set = power_set(input_set)\n",
    "    maximum_value = 0\n",
    "    for subset in all_set:\n",
    "        subset_capacity = 0\n",
    "        subset_value = 0\n",
    "        for s in subset:\n",
    "            w, v = s\n",
    "            subset_capacity += w\n",
    "            subset_value += v\n",
    "        if subset_capacity <= capacity:\n",
    "            maximum_value = max(subset_value, maximum_value)\n",
    "    return maximum_value"
   ]
  },
  {
   "cell_type": "code",
   "execution_count": 2,
   "metadata": {},
   "outputs": [
    {
     "data": {
      "text/plain": [
       "13"
      ]
     },
     "execution_count": 2,
     "metadata": {},
     "output_type": "execute_result"
    }
   ],
   "source": [
    "# Test\n",
    "values = [5, 10, 3, 2, 3]\n",
    "weights = [4, 8, 3, 5, 2]\n",
    "backpack_capacity = 10\n",
    "\n",
    "knapsack(weights, values, backpack_capacity)"
   ]
  },
  {
   "cell_type": "markdown",
   "metadata": {},
   "source": [
    "### Recursive Method"
   ]
  },
  {
   "cell_type": "code",
   "execution_count": 3,
   "metadata": {},
   "outputs": [],
   "source": [
    "# Time Complexity: O(2^n) \n",
    "def knapsack_recursive(weights, values, capacity):\n",
    "    \n",
    "    # Helper function : Add an index as parameter\n",
    "    def knapsack_helper(weights, values, capacity, idx):\n",
    "        # Base case\n",
    "        if idx == len(weights):\n",
    "            return 0\n",
    "\n",
    "        # Recursive case  if capacity - current weights[idx] < 0 this items cannot be included\n",
    "        if weights[idx] > capacity:\n",
    "            return knapsack_helper(weights, values, capacity, idx + 1)\n",
    "        \n",
    "        else:\n",
    "        # Return the maximum of two cases: (1) nth item included (2) not included \n",
    "            return max(values[idx] + knapsack_helper(weights, values, capacity - weights[idx], idx + 1), knapsack_helper(weights, values, capacity, idx + 1))\n",
    "\n",
    "    # Main function return\n",
    "    return knapsack_helper(weights, values, capacity, 0)"
   ]
  },
  {
   "cell_type": "code",
   "execution_count": 4,
   "metadata": {},
   "outputs": [
    {
     "data": {
      "text/plain": [
       "13"
      ]
     },
     "execution_count": 4,
     "metadata": {},
     "output_type": "execute_result"
    }
   ],
   "source": [
    "# Test\n",
    "values = [5, 10, 3, 2, 3]\n",
    "weights = [4, 8, 3, 5, 2]\n",
    "backpack_capacity = 10\n",
    "\n",
    "knapsack_recursive(weights, values, backpack_capacity)\n"
   ]
  },
  {
   "cell_type": "markdown",
   "metadata": {},
   "source": [
    "### Optimized Dynamic Programming Solution"
   ]
  },
  {
   "cell_type": "code",
   "execution_count": 30,
   "metadata": {},
   "outputs": [],
   "source": [
    "def knapsack(values, weights, capacity):\n",
    "    # Two dimensional array for Memoization, each element is initialized to None\n",
    "    dp = [[None for c in range(capacity + 1)] for r in range(len(values))]\n",
    "     \n",
    "    return knapsack_recursive(dp, values, weights, capacity, 0)\n",
    "\n",
    "\n",
    "def knapsack_recursive(dp, values, weights, capacity, currentIndex):\n",
    "\n",
    "    # Base case\n",
    "    if capacity <= 0 or currentIndex >= len(values):\n",
    "        return 0\n",
    "\n",
    "    # if we have already solved a similar problem, return the result from memo\n",
    "    if dp[currentIndex][capacity] != None:\n",
    "        return dp[currentIndex][capacity]\n",
    "\n",
    "    # Recursive call including the element at the currentIndex\n",
    "    profit1 = 0\n",
    "    if weights[currentIndex] <= capacity:\n",
    "        profit1 = values[currentIndex] + knapsack_recursive(dp, values, weights, capacity - weights[currentIndex], currentIndex + 1)\n",
    "\n",
    "    # Recursive call after excluding the element at the currentIndex\n",
    "    profit2 = knapsack_recursive(dp, values, weights, capacity, currentIndex + 1)\n",
    "    \n",
    "    # Add maximum profit to memo\n",
    "    dp[currentIndex][capacity] = max(profit1, profit2)\n",
    "\n",
    "    return dp[currentIndex][capacity]"
   ]
  },
  {
   "cell_type": "code",
   "execution_count": 31,
   "metadata": {},
   "outputs": [
    {
     "name": "stdout",
     "output_type": "stream",
     "text": [
      "[None, None, None, None, None, None, None, None, None, None, None]\n",
      "[None, None, None, None, None, None, None, None, None, None, None]\n",
      "[None, None, None, None, None, None, None, None, None, None, None]\n",
      "[None, None, None, None, None, None, None, None, None, None, None]\n",
      "[None, None, None, 3, None, None, None, None, None, None, None]\n",
      "[None, None, None, None, None, None, None, None, None, None, None]\n",
      "[None, None, None, None, None, None, None, None, None, None, None]\n",
      "[None, None, None, None, None, None, None, None, None, None, None]\n",
      "[None, None, None, 3, None, None, None, None, None, None, None]\n",
      "[None, None, None, 3, None, None, None, None, None, None, None]\n",
      "[None, None, None, None, None, None, None, None, None, None, None]\n",
      "[None, None, None, None, None, None, None, None, None, None, None]\n",
      "[None, None, None, None, None, None, None, None, None, None, None]\n",
      "[None, None, None, 3, None, None, None, None, None, None, None]\n",
      "[None, 0, None, 3, None, None, None, None, None, None, None]\n",
      "[None, None, None, None, None, None, None, None, None, None, None]\n",
      "[None, None, None, None, None, None, None, None, None, None, None]\n",
      "[None, None, None, None, None, None, None, None, None, None, None]\n",
      "[None, None, None, 3, None, None, None, None, None, None, None]\n",
      "[None, 0, None, 3, None, None, 3, None, None, None, None]\n",
      "[None, None, None, None, None, None, None, None, None, None, None]\n",
      "[None, None, None, None, None, None, None, None, None, None, None]\n",
      "[None, None, None, None, None, None, None, None, None, None, None]\n",
      "[None, None, None, 3, None, None, 3, None, None, None, None]\n",
      "[None, 0, None, 3, None, None, 3, None, None, None, None]\n",
      "[None, None, None, None, None, None, None, None, None, None, None]\n",
      "[None, None, None, None, None, None, None, None, None, None, None]\n",
      "[None, None, None, None, None, None, 6, None, None, None, None]\n",
      "[None, None, None, 3, None, None, 3, None, None, None, None]\n",
      "[None, 0, None, 3, None, None, 3, None, None, None, None]\n",
      "[None, None, None, None, None, None, None, None, None, None, None]\n",
      "[None, None, None, None, None, None, 6, None, None, None, None]\n",
      "[None, None, None, None, None, None, 6, None, None, None, None]\n",
      "[None, None, None, 3, None, None, 3, None, None, None, None]\n",
      "[None, 0, None, 3, None, None, 3, None, None, None, None]\n",
      "[None, None, None, None, None, None, None, None, None, None, None]\n",
      "[None, None, None, None, None, None, 6, None, None, None, None]\n",
      "[None, None, None, None, None, None, 6, None, None, None, None]\n",
      "[None, None, None, 3, None, None, 3, None, None, None, None]\n",
      "[None, 0, 3, 3, None, None, 3, None, None, None, None]\n",
      "[None, None, None, None, None, None, None, None, None, None, None]\n",
      "[None, None, None, None, None, None, 6, None, None, None, None]\n",
      "[None, None, None, None, None, None, 6, None, None, None, None]\n",
      "[None, None, 3, 3, None, None, 3, None, None, None, None]\n",
      "[None, 0, 3, 3, None, None, 3, None, None, None, None]\n",
      "[None, None, None, None, None, None, None, None, None, None, None]\n",
      "[None, None, None, None, None, None, 6, None, None, None, None]\n",
      "[None, None, 3, None, None, None, 6, None, None, None, None]\n",
      "[None, None, 3, 3, None, None, 3, None, None, None, None]\n",
      "[None, 0, 3, 3, None, None, 3, None, None, None, None]\n",
      "[None, None, None, None, None, None, None, None, None, None, None]\n",
      "[None, None, None, None, None, None, 6, None, None, None, None]\n",
      "[None, None, 3, None, None, None, 6, None, None, None, None]\n",
      "[None, None, 3, 3, None, None, 3, None, None, None, None]\n",
      "[None, 0, 3, 3, None, None, 3, 3, None, None, None]\n",
      "[None, None, None, None, None, None, None, None, None, None, None]\n",
      "[None, None, None, None, None, None, 6, None, None, None, None]\n",
      "[None, None, 3, None, None, None, 6, None, None, None, None]\n",
      "[None, None, 3, 3, None, None, 3, 5, None, None, None]\n",
      "[None, 0, 3, 3, None, None, 3, 3, None, None, None]\n",
      "[None, None, None, None, None, None, None, None, None, None, None]\n",
      "[None, None, None, None, None, None, 6, None, None, None, None]\n",
      "[None, None, 3, None, None, None, 6, None, None, None, None]\n",
      "[None, None, 3, 3, None, None, 3, 5, None, None, None]\n",
      "[None, 0, 3, 3, None, 3, 3, 3, None, None, None]\n",
      "[None, None, None, None, None, None, None, None, None, None, None]\n",
      "[None, None, None, None, None, None, 6, None, None, None, None]\n",
      "[None, None, 3, None, None, None, 6, None, None, None, None]\n",
      "[None, None, 3, 3, None, None, 3, 5, None, None, None]\n",
      "[None, 0, 3, 3, None, 3, 3, 3, None, None, 3]\n",
      "[None, None, None, None, None, None, None, None, None, None, None]\n",
      "[None, None, None, None, None, None, 6, None, None, None, None]\n",
      "[None, None, 3, None, None, None, 6, None, None, None, None]\n",
      "[None, None, 3, 3, None, None, 3, 5, None, None, 5]\n",
      "[None, 0, 3, 3, None, 3, 3, 3, None, None, 3]\n",
      "[None, None, None, None, None, None, None, None, None, None, None]\n",
      "[None, None, None, None, None, None, 6, None, None, None, None]\n",
      "[None, None, 3, None, None, None, 6, None, None, None, 8]\n",
      "[None, None, 3, 3, None, None, 3, 5, None, None, 5]\n",
      "[None, 0, 3, 3, None, 3, 3, 3, None, None, 3]\n",
      "[None, None, None, None, None, None, None, None, None, None, None]\n",
      "[None, None, None, None, None, None, 6, None, None, None, 13]\n",
      "[None, None, 3, None, None, None, 6, None, None, None, 8]\n",
      "[None, None, 3, 3, None, None, 3, 5, None, None, 5]\n",
      "[None, 0, 3, 3, None, 3, 3, 3, None, None, 3]\n",
      "[None, None, None, None, None, None, None, None, None, None, 13]\n",
      "[None, None, None, None, None, None, 6, None, None, None, 13]\n",
      "[None, None, 3, None, None, None, 6, None, None, None, 8]\n",
      "[None, None, 3, 3, None, None, 3, 5, None, None, 5]\n",
      "[None, 0, 3, 3, None, 3, 3, 3, None, None, 3]\n"
     ]
    },
    {
     "data": {
      "text/plain": [
       "13"
      ]
     },
     "execution_count": 31,
     "metadata": {},
     "output_type": "execute_result"
    }
   ],
   "source": [
    "# Test\n",
    "values = [5, 10, 3, 2, 3]\n",
    "weights = [4, 8, 3, 5, 2]\n",
    "backpack_capacity = 10\n",
    "\n",
    "knapsack(values, weights, backpack_capacity)"
   ]
  },
  {
   "cell_type": "markdown",
   "metadata": {},
   "source": [
    "### Fractional Knapsack Problem"
   ]
  },
  {
   "cell_type": "markdown",
   "metadata": {},
   "source": [
    "I we can take fractions of the given `items`, then the `greedy` approach can be used."
   ]
  },
  {
   "cell_type": "markdown",
   "metadata": {},
   "source": [
    "- Sort the `items` according to their values, it can be done in `O(n log(n))` time complexity.\n",
    "\n",
    "- Start with the `item` that is the most valuable and take as much as possible.\n",
    "\n",
    "- Then try with the next `item` from our sorted list.\n",
    "\n",
    "- This linear search has `O(n)` time complexity.\n",
    "\n",
    "- Overall complexity : `O(n log(n)` + `O(n)` = `O(n log(n))`"
   ]
  }
 ],
 "metadata": {
  "kernelspec": {
   "display_name": "Python 3",
   "language": "python",
   "name": "python3"
  },
  "language_info": {
   "codemirror_mode": {
    "name": "ipython",
    "version": 3
   },
   "file_extension": ".py",
   "mimetype": "text/x-python",
   "name": "python",
   "nbconvert_exporter": "python",
   "pygments_lexer": "ipython3",
   "version": "3.8.8"
  }
 },
 "nbformat": 4,
 "nbformat_minor": 2
}
